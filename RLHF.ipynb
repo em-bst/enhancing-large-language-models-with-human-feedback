{
  "nbformat": 4,
  "nbformat_minor": 0,
  "metadata": {
    "colab": {
      "provenance": [],
      "authorship_tag": "ABX9TyNLRkHXoetZGa6706ngoi7v",
      "include_colab_link": true
    },
    "kernelspec": {
      "name": "python3",
      "display_name": "Python 3"
    },
    "language_info": {
      "name": "python"
    }
  },
  "cells": [
    {
      "cell_type": "markdown",
      "metadata": {
        "id": "view-in-github",
        "colab_type": "text"
      },
      "source": [
        "<a href=\"https://colab.research.google.com/github/em-bst/enhancing-large-language-models-with-human-feedback/blob/main/RLHF.ipynb\" target=\"_parent\"><img src=\"https://colab.research.google.com/assets/colab-badge.svg\" alt=\"Open In Colab\"/></a>"
      ]
    },
    {
      "cell_type": "code",
      "execution_count": null,
      "metadata": {
        "id": "FkPcGuA5h1bJ"
      },
      "outputs": [],
      "source": [
        "#TEST"
      ]
    },
    {
      "cell_type": "code",
      "source": [
        "#test 2"
      ],
      "metadata": {
        "id": "HyMD6hCKlOs5"
      },
      "execution_count": null,
      "outputs": []
    },
    {
      "cell_type": "markdown",
      "source": [
        "Essai encore"
      ],
      "metadata": {
        "id": "E5mReV9-15xs"
      }
    }
  ]
}